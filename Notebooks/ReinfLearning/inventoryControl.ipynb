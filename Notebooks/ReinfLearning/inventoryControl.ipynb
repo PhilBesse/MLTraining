{
 "cells": [
  {
   "cell_type": "markdown",
   "metadata": {},
   "source": [
    "# Introduction to Reinforcement Learning: the retail store management problem\n",
    "\n",
    "This notebook presents an example of a problem that can be cast as a Reinforcement Learning problem.\n",
    "\n",
    "We first explain how to model the dynamics of the problem as a finite Markov Decision Process.\n",
    "\n",
    "In most subsequent sections, we then simplify the problem and assume that the environment is _known_ (i.e., we assume that we know the transition probabilities of the MDP). In this setting we illustrate stochastic control methods (Policy Evaluation, Policy Iteration, and Value Iteration) that are useful to compute policies with maximum cumulative discounted rewards.\n",
    "\n",
    "The last part of the notebook deals with the more challenging Reinforcement Learning problem, where the environment is _unknown_ but the reward-accumulating goal is similar. We implement the Q-learning algorithm.\n",
    "\n",
    "For a more advanced introduction to RL, we refer the reader to:\n",
    "- Sutton and Barto's book: \"Reinforcement Learning: an introduction\", https://web.stanford.edu/class/psych209/Readings/SuttonBartoIPRLBook2ndEd.pdf\n",
    "- Erwan Le Pennec's summary of Sutton and Barto's book: http://www.cmap.polytechnique.fr/~lepennec/files/RL/Sutton.pdf\n",
    "- Emmanuel Rachelson's course with notebooks: https://github.com/erachelson/RLclass"
   ]
  },
  {
   "cell_type": "code",
   "execution_count": 1,
   "metadata": {},
   "outputs": [],
   "source": [
    "%matplotlib inline\n",
    "from matplotlib.pyplot import *\n",
    "from math import *\n",
    "from numpy import *\n",
    "from numpy.random import *\n",
    "from scipy.misc import *\n",
    "from scipy.stats import *\n",
    "import copy"
   ]
  },
  {
   "cell_type": "markdown",
   "metadata": {},
   "source": [
    "## The retail store management problem\n",
    "\n",
    "The problem we consider is the following. As a store manager, you are responsible for maintaining a stock of products (units) in a little warehouse. Every month, you can order new products to increase your stock, and you can sell products to clients (we assume for simplicity that all transactions happen at the end of the month). Products that are sold generate revenue, but products in the warehouse also generate storage costs, along with transportation costs.\n",
    "\n",
    "Imagine your only degree of freedom is the number of new units you order every month to increase your stock. How should you proceed so as to maximize your total revenue?"
   ]
  },
  {
   "cell_type": "markdown",
   "metadata": {},
   "source": [
    "### Notation\n",
    "\n",
    "At each month $t\\geq 1$, consider \n",
    "- $x_t$: number of units in the warehouse (entrepôt) at the beginning of the month\n",
    "- $a_t$: action = number of units ordered for the end of the month\n",
    "- $D_t$: demand for that month (assume units are all sold at the very end of the month, after receiving additional units)"
   ]
  },
  {
   "cell_type": "markdown",
   "metadata": {},
   "source": [
    "### Problem parameters\n",
    "- $p$: selling price per unit. \n",
    "- $c$: cost per unit (buying price) with $c<p$. \n",
    "- $h$: storage cost per unit. \n",
    "- $K$: overall transportation cost. "
   ]
  },
  {
   "cell_type": "markdown",
   "metadata": {
    "scrolled": false
   },
   "source": [
    "### Problem constraints\n",
    "\n",
    "- If the demand exceeds the number of available units, that is  $D_t > x_t + a_t,$\n",
    "then some clients are left aside. \n",
    "- Maximum storage capacity is of $M$ units. "
   ]
  },
  {
   "cell_type": "markdown",
   "metadata": {},
   "source": [
    "### Casting this setting as a Markov Decision Process\n",
    "- State space: $\\mathcal{S}=\\{0,1,\\ldots,M\\}$. \n",
    "- Available actions from state $x\\in\\mathcal{S}$: $\\mathcal{A}(x)=\\{0,1,\\ldots,M-x\\}$. \n",
    "- Dynamics: \n",
    "    - the demand is random, more precisely: $D_t \\overset{i.i.d.}{\\sim} p_D$.\n",
    "    - next state: $x_{t+1} = (\\min\\{x_t+a_t,M\\}-D_t)_+$.\n",
    "    - reward: $R_{t+1}$ given by\n",
    "$$R_{t+1} = p\\times \\underbrace{\\min\\{D_t,\\min\\{x_t+a_t,M\\}\\}}_{(A)} - c\\times (\\underbrace{\\min\\{x_t+a_t,M\\}-x_t}_{(B)}) - \\underbrace{h\\times x_t}_{(C)} -\\underbrace{K\\times \\mathbf{1}_{a_t>0}}_{(D)},$$\n",
    "where \n",
    "        - $\\min\\{x_t+a_t,M\\}$: what we have before selling, \n",
    "        - $(C)$: storing cost, \n",
    "        - $(D)$: fixed transportation cost. \n",
    "\n",
    "**Questions:** \n",
    "- Explain why the next state formula involves a positive part $(\\cdot)_+$.\n",
    "- Explain what $(A)$ and $(B)$ correspond to. \n"
   ]
  },
  {
   "cell_type": "markdown",
   "metadata": {},
   "source": [
    "## Simulation of the Markov Decision Process (MDP)\n",
    "\n",
    "### Setting inventory parameters"
   ]
  },
  {
   "cell_type": "code",
   "execution_count": 2,
   "metadata": {},
   "outputs": [],
   "source": [
    "M = 15 # maximum storage capacity\n",
    "gamma = 0.99 # discount \n",
    "\n",
    "p = 1 # selling price per unit \n",
    "c = 0.5 # cost per unit (buying price s.t. c<p)\n",
    "h = 0.3 # storage cost per unit\n",
    "K = 0.8 # overall transportation cost"
   ]
  },
  {
   "cell_type": "markdown",
   "metadata": {},
   "source": [
    "### Demand probability distribution"
   ]
  },
  {
   "cell_type": "code",
   "execution_count": 3,
   "metadata": {},
   "outputs": [
    {
     "data": {
      "image/png": "[encoded data removed]",
      "text/plain": [
       "<Figure size 432x288 with 1 Axes>"
      ]
     },
     "metadata": {
      "needs_background": "light"
     },
     "output_type": "display_data"
    }
   ],
   "source": [
    "# pD = [pD(0),pD(1),..,pD(M)]\n",
    "q = 0.1\n",
    "pD = [q*(1-q)**k for k in range(M)] # geometric distribution\n",
    "pD.append(1 - sum(pD))\n",
    "bar(range(M+1),pD)\n",
    "\n",
    "# random demand (drawn from p, starting at 0)\n",
    "def rdemand(p):\n",
    "    return(sum(rand()>cumsum(p)))"
   ]
  },
  {
   "cell_type": "markdown",
   "metadata": {},
   "source": [
    "**Question:** Explain why the function `rdemand` generates a random variable from the distribution $p_D$. (How would you check it numerically?)\n"
   ]
  },
  {
   "cell_type": "code",
   "execution_count": 4,
   "metadata": {},
   "outputs": [
    {
     "data": {
      "text/plain": [
       "(array([0.09948, 0.08925, 0.08113, 0.07292, 0.06526, 0.05867, 0.05216,\n",
       "        0.04869, 0.04349, 0.03888, 0.03549, 0.0319 , 0.02859, 0.02585,\n",
       "        0.02268, 0.20556]),\n",
       " array([-0.5,  0.5,  1.5,  2.5,  3.5,  4.5,  5.5,  6.5,  7.5,  8.5,  9.5,\n",
       "        10.5, 11.5, 12.5, 13.5, 14.5, 15.5]),\n",
       " <BarContainer object of 16 artists>)"
      ]
     },
     "execution_count": 4,
     "metadata": {},
     "output_type": "execute_result"
    },
    {
     "data": {
      "image/png": "[encoded data removed]",
      "text/plain": [
       "<Figure size 432x288 with 1 Axes>"
      ]
     },
     "metadata": {
      "needs_background": "light"
     },
     "output_type": "display_data"
    }
   ],
   "source": [
    "xx = [rdemand(pD) for k in range(10**5)]\n",
    "hist(xx,bins=linspace(-0.5,15.5,17),density=True)"
   ]
  },
  {
   "cell_type": "markdown",
   "metadata": {},
   "source": [
    "### Reward function"
   ]
  },
  {
   "cell_type": "code",
   "execution_count": 5,
   "metadata": {},
   "outputs": [],
   "source": [
    "def reward(x,a,d,K=0.8,c=0.5,h=0.3,p=1):\n",
    "    return(p*min(d,x+a,M) - c*max(0,min(x+a,M)-x) - h*x - K*(a>0))"
   ]
  },
  {
   "cell_type": "code",
   "execution_count": 6,
   "metadata": {},
   "outputs": [
    {
     "data": {
      "text/plain": [
       "0.0"
      ]
     },
     "execution_count": 6,
     "metadata": {},
     "output_type": "execute_result"
    }
   ],
   "source": [
    "reward(12,1,10)-(10-0.5-0.3*12-0.8)"
   ]
  },
  {
   "cell_type": "markdown",
   "metadata": {},
   "source": [
    "### Transition function"
   ]
  },
  {
   "cell_type": "code",
   "execution_count": 7,
   "metadata": {},
   "outputs": [],
   "source": [
    "def nextState(x, a, d):\n",
    "    return(max(0, min(x+a, M)-d))"
   ]
  },
  {
   "cell_type": "code",
   "execution_count": 8,
   "metadata": {},
   "outputs": [
    {
     "data": {
      "text/plain": [
       "7"
      ]
     },
     "execution_count": 8,
     "metadata": {},
     "output_type": "execute_result"
    }
   ],
   "source": [
    "nextState(10,10,8)"
   ]
  },
  {
   "cell_type": "markdown",
   "metadata": {},
   "source": [
    "### Simulating the inventory sales\n"
   ]
  },
  {
   "cell_type": "code",
   "execution_count": 9,
   "metadata": {},
   "outputs": [],
   "source": [
    "# pi: deterministic policy (mapping state x --> action pi(x))\n",
    "# n: nb of iterations\n",
    "def simu(n, pi):\n",
    "    R = zeros(n) # rewards over n iterations\n",
    "    X = M # start with M units in stock\n",
    "    for t in range(n):\n",
    "        D = rdemand(pD); # random demand ~ pD\n",
    "        R[t] = reward(X, pi[X], D) # compute the reward\n",
    "        X = nextState(X, pi[X], D) # compute the next state\n",
    "    return(R)"
   ]
  },
  {
   "cell_type": "markdown",
   "metadata": {},
   "source": [
    "**Example (policy $\\pi_1$):** always order 2 units, whatever what we have in stock\n"
   ]
  },
  {
   "cell_type": "code",
   "execution_count": 10,
   "metadata": {},
   "outputs": [
    {
     "data": {
      "text/plain": [
       "[<matplotlib.lines.Line2D at 0x26514ea6430>]"
      ]
     },
     "execution_count": 10,
     "metadata": {},
     "output_type": "execute_result"
    },
    {
     "data": {
      "image/png": "[encoded data removed]",
      "text/plain": [
       "<Figure size 432x288 with 1 Axes>"
      ]
     },
     "metadata": {
      "needs_background": "light"
     },
     "output_type": "display_data"
    }
   ],
   "source": [
    "n = 200\n",
    "pi1 = [2]*(M+1) # pi1(x) = 2 for all x=0,...,M\n",
    "\n",
    "# simulation\n",
    "R = simu(n, pi1)\n",
    "V = cumsum([R[k] * gamma**k for k in range(n)])\n",
    "plot(range(n), V)\n",
    "plot([0,n-1],[0,0],'r')"
   ]
  },
  {
   "cell_type": "markdown",
   "metadata": {},
   "source": [
    "**Questions:**\n",
    "- What is plotted here?\n",
    "- Why isn't the curve increasing?\n",
    "- Simulate the total discounted reward for the policy $\\pi_2$ that always buys a number of units in order to reach the maximum storage capacity. \n",
    "- Which policy would you choose among these two policies? Explain why. "
   ]
  },
  {
   "cell_type": "code",
   "execution_count": 11,
   "metadata": {},
   "outputs": [
    {
     "data": {
      "text/plain": [
       "[<matplotlib.lines.Line2D at 0x26514efdd60>]"
      ]
     },
     "execution_count": 11,
     "metadata": {},
     "output_type": "execute_result"
    },
    {
     "data": {
      "image/png": "[encoded data removed]",
      "text/plain": [
       "<Figure size 432x288 with 1 Axes>"
      ]
     },
     "metadata": {
      "needs_background": "light"
     },
     "output_type": "display_data"
    }
   ],
   "source": [
    "#Policy pi2\n",
    "\n",
    "n = 200\n",
    "pi2 = [M-x for x in range(M+1)] # pi2(x) = M-x for all x=0,...,M\n",
    "\n",
    "# simulation\n",
    "R = simu(n, pi2)\n",
    "V = cumsum([R[k] * gamma**k for k in range(n)])\n",
    "plot(range(n), V)\n",
    "plot([0,n-1],[0,0],'r')"
   ]
  },
  {
   "cell_type": "code",
   "execution_count": 12,
   "metadata": {},
   "outputs": [
    {
     "name": "stdout",
     "output_type": "stream",
     "text": [
      "10.402893365317583 45.16326677812957\n"
     ]
    }
   ],
   "source": [
    "# We can compare pi1 and pi2 by estimating their values from state x=M\n",
    "# i.e., we estimate the expected total discounted reward starting from x=M\n",
    "\n",
    "n = 200\n",
    "\n",
    "nMC = 10**3 # nb of Monte Carlo simulations\n",
    "v1 = 0 # estimate for value_pi1(x=M)\n",
    "v2 = 0 # estimate for value_pi2(x=M)\n",
    "\n",
    "for experiment in range(nMC):\n",
    "    R1 = simu(n, pi1)\n",
    "    R2 = simu(n, pi2)\n",
    "    v1 += sum([R1[k] * gamma**k for k in range(n)])/nMC\n",
    "    v2 += sum([R2[k] * gamma**k for k in range(n)])/nMC\n",
    "    \n",
    "print(v1,v2)\n",
    "# Conclusion: the second policy is much more profitable on average."
   ]
  },
  {
   "cell_type": "markdown",
   "metadata": {},
   "source": [
    "## Policy and value functions\n",
    "\n",
    "### Transition kernel and expected reward function\n",
    "\n",
    "We now explain how to represent the transition kernel and the expected reward function in terms of python lists.\n",
    "\n",
    "Starting from state $x$ and playing action $a$, the expected reward is given by\n",
    "$$r[x,a] := \\mathbb{E}\\Big[R_{t+1} \\Big| S_t=x,A_t=a \\Big] = \\sum_{d=0}^M \\textrm{reward}(x,a,d) \\times \\mathbb{P}(D_t=d) \\,.$$\n",
    "Besides, the transition probability from state $x$ to state $x'$ playing action $a$ is given by\n",
    "\\begin{align*}\n",
    "P[x,a,x'] & :=\\mathbb{P}\\Big(S_{t+1}=x' \\Big| S_t = x, A_t=a\\Big) \\\\\n",
    "& = \\mathbb{P}\\Big((\\min\\{S_t+A_t,M\\} - D_t) _+=x' \\Big| S_t = x, A_t=a\\Big) \\\\\n",
    "& = \\sum_{d=0}^M \\mathbf{1}_{(\\min\\{x+a,M\\} - d) _+ = x'} \\times \\mathbb{P}(D_t=d) \\,.\n",
    "\\end{align*}"
   ]
  },
  {
   "cell_type": "code",
   "execution_count": 13,
   "metadata": {},
   "outputs": [],
   "source": [
    "# We store the values r[x,a] in a nested list 'rew'\n",
    "rew = [[sum([reward(x, a, d)*pD[d] for d in range(M+1)]) for a in range(M+1)] for x in range(M+1)]\n",
    "\n",
    "# We store the values P[x,a,x'] in a nested list 'trans'\n",
    "trans = [[[0 for y in range(M+1)] for a in range(M+1)] for x in range(M+1)]\n",
    "for x in range(M+1):\n",
    "    for a in range(M+1):\n",
    "        for d in range(M+1):\n",
    "            trans[x][a][nextState(x, a, d)] += pD[d]"
   ]
  },
  {
   "cell_type": "code",
   "execution_count": 14,
   "metadata": {},
   "outputs": [
    {
     "data": {
      "text/plain": [
       "0.0729"
      ]
     },
     "execution_count": 14,
     "metadata": {},
     "output_type": "execute_result"
    }
   ],
   "source": [
    "trans[7][2][6]"
   ]
  },
  {
   "cell_type": "markdown",
   "metadata": {},
   "source": [
    "## Policy evaluation\n",
    "\n",
    "Bellman equation: \n",
    "$$v_{\\pi}(s) = \\sum_{a}\\pi(a|s) \\underbrace{\\sum_{s',r} p(s',r|s,a) \\times \\Big[r+\\gamma v_{\\pi}(s')\\Big]}_{q_\\pi(s,a)} = \\mathcal{T}_\\pi(v_\\pi)(s).$$\n",
    "\n",
    "In what follows just below, we only consider deterministic policies, i.e., such that $\\pi(a|s)=1$ for a given action $a$; we denote this action by $\\pi(s)$ (slight abuse of notation). As a consequence, using the expected reward function and the transition kernel defined above,\n",
    "\n",
    "$$ \\forall s, \\qquad v_{\\pi}(s) = r[s,\\pi(s)] + \\gamma \\sum_{s'} P[s,\\pi(s),s'] \\times v_{\\pi}(s') \\,.$$\n",
    "\n",
    "This can be rewritten in matrix form as\n",
    "$$\\overset{\\rightarrow}{v}_\\pi = \\overset{\\rightarrow}{r} + \\gamma P \\overset{\\rightarrow}{v}_\\pi \\,,$$\n",
    "\n",
    "where $\\overset{\\rightarrow}{r}$ is the vector with entries given by $r[s,\\pi(s)]$, and where $P$ is the matrix with entries given by $P[s,\\pi(s),s']$.\n",
    "\n",
    "This is equivalent to $$(\\text{Id} - \\gamma P) \\overset{\\rightarrow}{v}_\\pi = \\overset{\\rightarrow}{r} \\quad \\Longleftrightarrow \\quad \\overset{\\rightarrow}{v}_\\pi = (\\text{Id} - \\gamma P)^{-1} \\overset{\\rightarrow}{r}.$$"
   ]
  },
  {
   "cell_type": "code",
   "execution_count": 15,
   "metadata": {},
   "outputs": [],
   "source": [
    "def policyValue(pol):\n",
    "    r = matrix([rew[x][pol[x]] for x in range(M+1)]).transpose() #column matrix with entries rew[x,pol(x)]\n",
    "    P = matrix([[trans[x][pol[x]][y] for y in range(M+1)] for x in range(M+1)])\n",
    "    v = linalg.solve(identity(M+1)-gamma*P, r)\n",
    "    return(v)"
   ]
  },
  {
   "cell_type": "code",
   "execution_count": 16,
   "metadata": {},
   "outputs": [
    {
     "data": {
      "text/plain": [
       "<BarContainer object of 16 artists>"
      ]
     },
     "execution_count": 16,
     "metadata": {},
     "output_type": "execute_result"
    },
    {
     "data": {
      "image/png": "[encoded data removed]",
      "text/plain": [
       "<Figure size 432x288 with 1 Axes>"
      ]
     },
     "metadata": {
      "needs_background": "light"
     },
     "output_type": "display_data"
    }
   ],
   "source": [
    "v1=array(policyValue(pi1)).reshape(M+1) # transforms the column matrix policyValue(pi1) into a one-dimensional array\n",
    "bar(range(M+1),v1)"
   ]
  },
  {
   "cell_type": "markdown",
   "metadata": {},
   "source": [
    "**Question:** \n",
    "- Compute the value of the policy `pi2` that always buys a number of units in order to reach the maximum storage capacity.\n",
    "- Which policy is best? Is it consistent with your previous answers? "
   ]
  },
  {
   "cell_type": "code",
   "execution_count": 17,
   "metadata": {},
   "outputs": [
    {
     "data": {
      "text/plain": [
       "<BarContainer object of 16 artists>"
      ]
     },
     "execution_count": 17,
     "metadata": {},
     "output_type": "execute_result"
    },
    {
     "data": {
      "image/png": "[encoded data removed]",
      "text/plain": [
       "<Figure size 432x288 with 1 Axes>"
      ]
     },
     "metadata": {
      "needs_background": "light"
     },
     "output_type": "display_data"
    }
   ],
   "source": [
    "v2=array(policyValue(pi2)).reshape(M+1) # transforms the column matrix policyValue(pi1) into a one-dimensional array\n",
    "bar(range(M+1),v2)"
   ]
  },
  {
   "cell_type": "markdown",
   "metadata": {},
   "source": [
    "# Searching for the best policy\n",
    "\n",
    "There exists an optimal policy $\\pi_*$ s.t.\n",
    "$$\\forall \\pi,\\quad \\forall s\\in\\mathcal{S}, \\quad \\quad v_{\\pi_*}(s) \\geq v_\\pi(s).$$ \n",
    "\n",
    "Optimal policies share the same optimal value function\n",
    "$$v_*(s) = v_{\\pi_*}(s) = \\underset{\\pi}{\\max}\\big\\{v_\\pi(s)\\big\\},$$\n",
    "and share the same optimal action-value function\n",
    "$$q_*(s,a) = q_{\\pi_*}(s,a) = \\max_\\pi\\big\\{q_\\pi(s,a)\\big\\}.$$\n",
    "Note that for a state-action pair $(s,a)$, this function gives the expected return for taking action $a$ in state $s$ and thererafter following an optimal policy, i.e. \n",
    "\\begin{eqnarray*}\n",
    "q_*(s,a) &=& \\mathbb{E}\\Big[R_{t+1} + \\gamma v_*(S_{t+1}) \\Big| S_t=s, A_t=a\\Big] \\\\\n",
    "&=& \\sum_{s',r} p(s',r|s,a) \\times \\big[ r + \\gamma v_*(s')\\big].\n",
    "\\end{eqnarray*}\n",
    "\n",
    "Intuitively, the value of a state under an optimal policy must equal the expected return for the best action form that state. This leads to the Bellman optimality equation:\n",
    "$$v_*(s) = \\max_a q_*(s,a) = \\max_a \\left\\{ \\sum_{s',r} p(s',r|s,a) \\times \\big[ r + \\gamma v_*(s')\\big]\\right\\} = \\mathcal{T}_*(v_*)(s).$$\n",
    "Note that once one has $v_*$, it is relatively easy to determine an optimal policy by \n",
    "$$\\pi_*(s) = \\underset{a}{\\text{argmax}}q_*(s,a).$$\n",
    "\n",
    "This leads to an iterative algorithm for approximating $v_*$ and therefore $\\pi^*$, known as __Value Iteration__:\n",
    "- for each step $k$, and for each action $a$, compute the action-value function \n",
    "$$q_{k}(s,a) = \\sum_{s',r} p(s',r|s,a)\\times \\big[ r+\\gamma v_k(s')\\big]$$\n",
    "- compute the next value function\n",
    "$$v_{k+1}(s) = \\mathcal{T}_*(v_k)(s) = \\underset{a}{\\max} \\left\\{ q_k(s,a) \\right\\}$$\n",
    "and the next policy \n",
    "$$\\pi_{k+1}(s) = \\underset{a}{\\text{argmax}}\\Big\\{q_k(s,a)\\Big\\} \\,.$$"
   ]
  },
  {
   "cell_type": "markdown",
   "metadata": {},
   "source": [
    "## Bellman operator\n",
    "\n",
    "For a given value function $V$, the `BellmanOperator` function below returns the one-step update $\\mathcal{T}_*(V)$ and the associated policy $\\pi_V$ defined by:\n",
    "$$\\mathcal{T}_*(V)(s) = \\max_a \\left\\{ \\sum_{s',r} p(s',r|s,a) \\times \\big[ r + \\gamma V(s')\\big]\\right\\}$$\n",
    "$$\\pi_V(s) = \\underset{a}{\\text{argmax}} \\left\\{ \\sum_{s',r} p(s',r|s,a) \\times \\big[ r + \\gamma V(s')\\big]\\right\\}$$\n"
   ]
  },
  {
   "cell_type": "code",
   "execution_count": 18,
   "metadata": {},
   "outputs": [],
   "source": [
    "def BellmanOperator(V):\n",
    "    newV = [0]*(M+1)\n",
    "    newpol = [0]*(M+1)\n",
    "    for x in range(M+1):\n",
    "        # We compute Q[a] = q(x,a) for all actions a, in matrix column form:\n",
    "        Q = matrix(rew[x]).transpose() + gamma * matrix(trans[x])*matrix(V).transpose()\n",
    "        newV[x] = max(Q)[0,0] # max(Q) is 1*1 matrix\n",
    "        newpol[x] = argmax(Q)\n",
    "    return(newV,newpol)"
   ]
  },
  {
   "cell_type": "code",
   "execution_count": 19,
   "metadata": {},
   "outputs": [
    {
     "name": "stdout",
     "output_type": "stream",
     "text": [
      "[6, 5, 0, 0, 0, 0, 0, 0, 0, 0, 0, 0, 0, 0, 0, 0]\n",
      "[9, 8, 7, 6, 0, 0, 0, 0, 0, 0, 0, 0, 0, 0, 0, 0]\n",
      "[10, 9, 8, 7, 0, 0, 0, 0, 0, 0, 0, 0, 0, 0, 0, 0]\n",
      "[10, 9, 8, 7, 0, 0, 0, 0, 0, 0, 0, 0, 0, 0, 0, 0]\n",
      "[10, 9, 8, 7, 0, 0, 0, 0, 0, 0, 0, 0, 0, 0, 0, 0]\n"
     ]
    }
   ],
   "source": [
    "V = [0]*(M+1)\n",
    "for k in range(5):\n",
    "    V,pol = BellmanOperator(V)\n",
    "    print(pol)"
   ]
  },
  {
   "cell_type": "markdown",
   "metadata": {},
   "source": [
    "## Value iteration \n"
   ]
  },
  {
   "cell_type": "code",
   "execution_count": 20,
   "metadata": {},
   "outputs": [],
   "source": [
    "def valueIteration():\n",
    "    count = 0\n",
    "    V = [0]*(M+1)\n",
    "    pol = [0]*(M+1) # buy nothing whatever the state\n",
    "    oldV = [1]*(M+1)\n",
    "    while max([abs(x-y) for x,y in zip(V,oldV)])>10**(-4):\n",
    "        count += 1\n",
    "        oldV = V # copy.deepcopy(V) not really useful here\n",
    "        V,pol = BellmanOperator(V)\n",
    "    return(V,pol,count)"
   ]
  },
  {
   "cell_type": "markdown",
   "metadata": {},
   "source": [
    "## Finding the optimal solution by value iteration\n"
   ]
  },
  {
   "cell_type": "code",
   "execution_count": 21,
   "metadata": {},
   "outputs": [
    {
     "name": "stdout",
     "output_type": "stream",
     "text": [
      "number of iterations:  935\n",
      "optimal policy:  [10, 9, 8, 7, 0, 0, 0, 0, 0, 0, 0, 0, 0, 0, 0, 0]\n",
      "optimal value:  [118.21, 118.41, 118.61, 118.81, 119.113, 119.513, 119.88, 120.213, 120.512, 120.778, 121.01, 121.209, 121.374, 121.506, 121.604, 121.669]\n"
     ]
    },
    {
     "data": {
      "image/png": "[encoded data removed]",
      "text/plain": [
       "<Figure size 432x288 with 1 Axes>"
      ]
     },
     "metadata": {
      "needs_background": "light"
     },
     "output_type": "display_data"
    }
   ],
   "source": [
    "V,pol,count = valueIteration()\n",
    "\n",
    "print('number of iterations: ',count)\n",
    "print('optimal policy: ',pol)\n",
    "print('optimal value: ',[round(x,3) for x in V])\n",
    "\n",
    "n = int(5/(1-gamma))\n",
    "vM = V[M]\n",
    "\n",
    "plot([0,n],[vM,vM],'r')\n",
    "xlim(0,n)\n",
    "ylim(0,1.5*vM)\n",
    "xlabel(\"time t\")\n",
    "ylabel(\"total discounted reward\")\n",
    "\n",
    "nplot = 50\n",
    "for k in range(nplot):\n",
    "    R = simu(n, pol)\n",
    "    cumulR = cumsum([R[k] * gamma**k for k in range(n)])\n",
    "    plot(range(n), cumulR, '-b')"
   ]
  },
  {
   "cell_type": "markdown",
   "metadata": {},
   "source": [
    "## Finding the optimal policy by Policy Iteration\n",
    "\n",
    "_Policy Iteration_ is another iterative algorithm to compute an optimal policy $\\pi^*$. It is also based on the Bellman equations, and on a useful property known as Policy Improvement: if for some policy $\\pi$, we consider the modified policy $\\pi'$ defined for all states $s$ by\n",
    "$$\\pi'(s) := \\underset{a}{\\text{argmax}} \\, q_{\\pi}(s,a)$$\n",
    "then $\\pi'$ is an improvement over $\\pi$ in the sense that $v_{\\pi'}(s) \\geq v_{\\pi}(s)$ for all states $s$.\n",
    "\n",
    "The Policy Iteration algorithm consists in starting from a policy $\\pi_0$, and then iteratively improving it via the recursion formula\n",
    "$$\\pi_{k+1}(s) = \\underset{a}{\\text{argmax}} \\, q_{\\pi_k}(s,a) = \\underset{a}{\\text{argmax}} \\, \\sum_{s',r} p(s',r|s,a) \\times \\big[ r + \\gamma v_{\\pi}(s')\\big]$$\n",
    "(To compute the value function $v_{\\pi}$ on the right-hand side, we use Policy Evaluation.)"
   ]
  },
  {
   "cell_type": "code",
   "execution_count": 22,
   "metadata": {},
   "outputs": [
    {
     "name": "stdout",
     "output_type": "stream",
     "text": [
      "[14, 13, 12, 11, 10, 9, 8, 7, 0, 0, 0, 0, 0, 0, 0, 0]\n",
      "[11, 10, 9, 8, 0, 0, 0, 0, 0, 0, 0, 0, 0, 0, 0, 0]\n",
      "[10, 9, 8, 7, 0, 0, 0, 0, 0, 0, 0, 0, 0, 0, 0, 0]\n",
      "[10, 9, 8, 7, 0, 0, 0, 0, 0, 0, 0, 0, 0, 0, 0, 0]\n",
      "[10, 9, 8, 7, 0, 0, 0, 0, 0, 0, 0, 0, 0, 0, 0, 0]\n"
     ]
    }
   ],
   "source": [
    "pol = [0]*(M+1) # buy nothing whatever the state\n",
    "for k in range(5):\n",
    "    vpi = policyValue(pol)\n",
    "    V,pol = BellmanOperator([vpi[i,0] for i in range(M+1)])\n",
    "    print(pol)"
   ]
  },
  {
   "cell_type": "code",
   "execution_count": 23,
   "metadata": {},
   "outputs": [],
   "source": [
    "def policyIteration():\n",
    "    count = 0\n",
    "    V = [0]*(M+1)\n",
    "    pol = [0]*(M+1) # buy nothing whatever the state\n",
    "    oldpol = [1]*(M+1)\n",
    "    while pol!=oldpol:\n",
    "        count += 1\n",
    "        oldpol = pol # copy.deepcopy(pol) not really useful here\n",
    "        vpi = policyValue(pol) # this a matrix, while we need a python list\n",
    "        V,pol = BellmanOperator([vpi[i,0] for i in range(M+1)])\n",
    "    return(V,pol,count)"
   ]
  },
  {
   "cell_type": "code",
   "execution_count": 24,
   "metadata": {},
   "outputs": [
    {
     "name": "stdout",
     "output_type": "stream",
     "text": [
      "number of iterations:  4\n",
      "optimal policy:  [10, 9, 8, 7, 0, 0, 0, 0, 0, 0, 0, 0, 0, 0, 0, 0]\n",
      "optimal value:  [118.22, 118.42, 118.62, 118.82, 119.122, 119.523, 119.89, 120.223, 120.522, 120.788, 121.02, 121.219, 121.384, 121.516, 121.614, 121.679]\n"
     ]
    },
    {
     "data": {
      "image/png": "[encoded data removed]",
      "text/plain": [
       "<Figure size 432x288 with 1 Axes>"
      ]
     },
     "metadata": {
      "needs_background": "light"
     },
     "output_type": "display_data"
    }
   ],
   "source": [
    "V,pol,count = policyIteration()\n",
    "\n",
    "print('number of iterations: ',count)\n",
    "print('optimal policy: ',pol)\n",
    "print('optimal value: ',[round(x,3) for x in V])\n",
    "\n",
    "n = int(5/(1-gamma))\n",
    "vM = V[M]\n",
    "\n",
    "plot([0,n],[vM,vM],'r')\n",
    "xlim(0,n)\n",
    "ylim(0,1.5*vM)\n",
    "xlabel(\"time t\")\n",
    "ylabel(\"total discounted reward\")\n",
    "\n",
    "nplot = 50\n",
    "for k in range(nplot):\n",
    "    R = simu(n, pol)\n",
    "    cumulR = cumsum([R[k] * gamma**k for k in range(n)])\n",
    "    plot(range(n), cumulR, '-b')"
   ]
  },
  {
   "cell_type": "markdown",
   "metadata": {},
   "source": [
    "## If the parameters of the MDP are unknown: Q-learning\n",
    "\n",
    "There exist many different RL algorithms, even in the finite setting. Next, we only introduce one of them, the Q-learning algorithm.\n",
    "\n",
    "**Q-learning:** planning by Bellman backup (off-policy TD control)\n",
    "\n",
    "$$Q(S_t,A_t) \\leftarrow Q(S_t,A_t) + \\alpha \\Big( R_{t+1} + \\gamma \\max_a Q(S_{t+1},a) - Q(S_t,A_t)\\Big).$$\n"
   ]
  },
  {
   "cell_type": "code",
   "execution_count": 25,
   "metadata": {},
   "outputs": [],
   "source": [
    "def Qlearning(n, epsilon = 0.1): # we use the epsilon-greedy policy\n",
    "    Q = zeros((M+1,M+1))\n",
    "    X = M # we start full\n",
    "    for t in range(n):\n",
    "        if rand()<epsilon:\n",
    "            A = int((M+1)*rand()) # draw integer uniformly at random between 0 and M\n",
    "        else:\n",
    "            A = argmax(Q[X,:]) # smallest action that maximizes Q[X,]\n",
    "        D = rdemand(pD)\n",
    "        R = reward(X, A, D);\n",
    "        nX = nextState(X, A, D);\n",
    "        alpha = 1/(t+1)**0.3 #1/sqrt(t+1)\n",
    "        delta = R + gamma * max(Q[nX,]) - Q[X, A]\n",
    "        Q[X, A] = Q[X, A] + alpha * delta\n",
    "        X = nX\n",
    "    pol = [argmax(Q[x,:]) for x in range(M+1)]\n",
    "    return (Q,pol)"
   ]
  },
  {
   "cell_type": "code",
   "execution_count": 26,
   "metadata": {},
   "outputs": [
    {
     "name": "stdout",
     "output_type": "stream",
     "text": [
      "[8, 6, 0, 0, 0, 0, 0, 1, 0, 0, 2, 0, 2, 3, 0, 0]\n",
      "[[104.39785735]\n",
      " [104.4831883 ]\n",
      " [104.47957146]\n",
      " [104.96294596]\n",
      " [105.41248764]\n",
      " [105.82823405]\n",
      " [106.21022269]\n",
      " [105.79785735]\n",
      " [106.79785735]\n",
      " [107.07888081]\n",
      " [106.30413566]\n",
      " [107.43905876]\n",
      " [106.45437141]\n",
      " [106.53466623]\n",
      " [107.65437141]\n",
      " [107.73466623]]\n"
     ]
    }
   ],
   "source": [
    "Q,pol = Qlearning(50000,0.1)\n",
    "print(pol)\n",
    "print(policyValue(pol))"
   ]
  },
  {
   "cell_type": "markdown",
   "metadata": {},
   "source": [
    "Compare the policies obtained by Q-learning (note that the output is random!) with those obtained by Policy Iteration or Value Iteration."
   ]
  }
 ],
 "metadata": {
  "anaconda-cloud": {},
  "celltoolbar": "Raw Cell Format",
  "kernelspec": {
   "display_name": "Python 3",
   "language": "python",
   "name": "python3"
  },
  "language_info": {
   "codemirror_mode": {
    "name": "ipython",
    "version": 3
   },
   "file_extension": ".py",
   "mimetype": "text/x-python",
   "name": "python",
   "nbconvert_exporter": "python",
   "pygments_lexer": "ipython3",
   "version": "3.7.4"
  },
  "toc": {
   "base_numbering": 1,
   "nav_menu": {
    "height": "442px",
    "width": "401px"
   },
   "number_sections": true,
   "sideBar": true,
   "skip_h1_title": false,
   "title_cell": "Table of Contents",
   "title_sidebar": "Contents",
   "toc_cell": false,
   "toc_position": {},
   "toc_section_display": true,
   "toc_window_display": true
  }
 },
 "nbformat": 4,
 "nbformat_minor": 2
}
